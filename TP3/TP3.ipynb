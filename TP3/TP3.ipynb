{
 "cells": [
  {
   "cell_type": "markdown",
   "id": "1e545158",
   "metadata": {},
   "source": [
    "# Aula Prática 2 (guião)\n",
    "### Semana de 23 a 27 de Setembro de 2024\n",
    "### José Carlos Ramalho e Luís Cunha\n",
    "### Sinopsis:\n",
    "Algoritmos de cálculo numérico envolvendo estruturas condicionais (if-elif-else) e cíclicas (while)."
   ]
  },
  {
   "cell_type": "markdown",
   "id": "e38d18c4-d7d7-4fea-9bc6-e3f3c903386b",
   "metadata": {},
   "source": [
    "### Exercício 1: Soma de N números\n",
    "- Leia um número N;\n",
    "- Leia N números;\n",
    "- Imprima a soma dos N números."
   ]
  },
  {
   "cell_type": "code",
   "execution_count": 2,
   "id": "af973146-3bb4-4fa8-ba6c-b887b79ccff8",
   "metadata": {},
   "outputs": [
    {
     "name": "stdout",
     "output_type": "stream",
     "text": [
      "10\n"
     ]
    }
   ],
   "source": [
    "n = int(input(\"introduza um número n\"))\n",
    "i = 0\n",
    "soma = 0\n",
    "while i < n:\n",
    "    x = int(input(\"introduza um número\"))\n",
    "    soma = soma + x \n",
    "    i = i + 1\n",
    "print(soma)"
   ]
  },
  {
   "cell_type": "code",
   "execution_count": 9,
   "id": "850972f8",
   "metadata": {},
   "outputs": [
    {
     "name": "stdout",
     "output_type": "stream",
     "text": [
      "6\n"
     ]
    }
   ],
   "source": [
    "# fazer ao contrario\n",
    "n = int(input(\"introduza um número n\"))\n",
    "i =1\n",
    "soma = 0\n",
    "while i <= n:\n",
    "    x = int(input(f\"introduza o número {i} de {n}\"))\n",
    "    soma = soma + x \n",
    "    n = n - 1\n",
    "print(soma)"
   ]
  },
  {
   "cell_type": "markdown",
   "id": "13b62657",
   "metadata": {},
   "source": [
    "### Exercício 2: Números pares\n",
    "- Leia um número N;\n",
    "- Leia N números;\n",
    "- Imprima os números pares na saída."
   ]
  },
  {
   "cell_type": "code",
   "execution_count": 13,
   "id": "2467f8ad",
   "metadata": {},
   "outputs": [
    {
     "name": "stdout",
     "output_type": "stream",
     "text": [
      "4\n",
      "2\n"
     ]
    },
    {
     "ename": "ValueError",
     "evalue": "invalid literal for int() with base 10: '\\\\'",
     "output_type": "error",
     "traceback": [
      "\u001b[1;31m---------------------------------------------------------------------------\u001b[0m",
      "\u001b[1;31mValueError\u001b[0m                                Traceback (most recent call last)",
      "Cell \u001b[1;32mIn[13], line 5\u001b[0m\n\u001b[0;32m      2\u001b[0m i \u001b[38;5;241m=\u001b[39m \u001b[38;5;241m0\u001b[39m\n\u001b[0;32m      4\u001b[0m \u001b[38;5;28;01mwhile\u001b[39;00m i \u001b[38;5;241m<\u001b[39m n:\n\u001b[1;32m----> 5\u001b[0m    x \u001b[38;5;241m=\u001b[39m \u001b[38;5;28;43mint\u001b[39;49m\u001b[43m(\u001b[49m\u001b[38;5;28;43minput\u001b[39;49m\u001b[43m(\u001b[49m\u001b[38;5;124;43mf\u001b[39;49m\u001b[38;5;124;43m\"\u001b[39;49m\u001b[38;5;124;43mintroduza o numero \u001b[39;49m\u001b[38;5;132;43;01m{\u001b[39;49;00m\u001b[43mi\u001b[49m\u001b[38;5;132;43;01m}\u001b[39;49;00m\u001b[38;5;124;43m de \u001b[39;49m\u001b[38;5;132;43;01m{\u001b[39;49;00m\u001b[43mn\u001b[49m\u001b[38;5;132;43;01m}\u001b[39;49;00m\u001b[38;5;124;43m\"\u001b[39;49m\u001b[43m)\u001b[49m\u001b[43m)\u001b[49m\n\u001b[0;32m      6\u001b[0m    i \u001b[38;5;241m=\u001b[39m i \u001b[38;5;241m+\u001b[39m \u001b[38;5;241m1\u001b[39m \n\u001b[0;32m      7\u001b[0m    \u001b[38;5;28;01mif\u001b[39;00m x \u001b[38;5;241m%\u001b[39m \u001b[38;5;241m2\u001b[39m \u001b[38;5;241m==\u001b[39m \u001b[38;5;241m0\u001b[39m:\n",
      "\u001b[1;31mValueError\u001b[0m: invalid literal for int() with base 10: '\\\\'"
     ]
    }
   ],
   "source": [
    "n = int(input(\"introduza um número n\"))\n",
    "i = 0\n",
    "\n",
    "while i < n:\n",
    "   x = int(input(f\"introduza o numero {i} de {n}\"))\n",
    "   i = i + 1 \n",
    "   if x % 2 == 0:\n",
    "      print(x)\n",
    "   \n"
   ]
  },
  {
   "cell_type": "markdown",
   "id": "bdcbffb0",
   "metadata": {},
   "source": [
    "### Exercício 3: O Maior de N números\n",
    "- Leia um número N;\n",
    "- Leia N números;\n",
    "- Imprima o maior dos N números."
   ]
  },
  {
   "cell_type": "code",
   "execution_count": 2,
   "id": "af973146-3bb4-4fa8-ba6c-b887b79ccff8",
   "metadata": {},
   "outputs": [],
   "source": [
    "# Solução do exercício 3\n",
    "n = int(input(\"introduza um numero n\"))\n",
    "i = 0\n",
    "maior = int(input(f\"introduza o numero 1 de {n}\"))\n",
    "\n",
    "while i < n:\n",
    "    x = int((input(f\"introduza o numero {i} de {n}\")))\n",
    "    i = i + 1 \n",
    "    if x > maior:\n",
    "       maior = x\n",
    "print(maior)"
   ]
  },
  {
   "cell_type": "markdown",
   "id": "bdcbffb0",
   "metadata": {},
   "source": [
    "### Exercício 4: O Menor de N números\n",
    "- Leia um número N;\n",
    "- Leia N números;\n",
    "- Imprima o menor dos N números."
   ]
  },
  {
   "cell_type": "code",
   "execution_count": 19,
   "id": "64ad6f7b",
   "metadata": {},
   "outputs": [
    {
     "name": "stdout",
     "output_type": "stream",
     "text": [
      "0\n"
     ]
    }
   ],
   "source": [
    "# Solução do exercício 4\n",
    "n = int(input(\"introduza um numero n\"))\n",
    "i = 1\n",
    "menor = int(input(f\"introduza o numero 1 de {n}\"))\n",
    "\n",
    "while i < n:\n",
    "    x = int((input(f\"introduza o numero {i+1} de {n}\")))\n",
    "    i = i + 1 \n",
    "    if x < menor:\n",
    "       menor = x\n",
    "print(menor)\n"
   ]
  },
  {
   "cell_type": "markdown",
   "id": "bdcbffb0",
   "metadata": {},
   "source": [
    "### Exercício 5: A Média de N números\n",
    "- Leia um número N;\n",
    "- Leia N números;\n",
    "- Imprima a média dos N números."
   ]
  },
  {
   "cell_type": "code",
   "execution_count": 23,
   "id": "a6c32b2e",
   "metadata": {},
   "outputs": [],
   "source": [
    "# Solução do exercício 5\n",
    "n = int(input(\"introduza um número n\"))\n",
    "i = 0\n",
    "soma = 0\n",
    "\n",
    "while i < n:\n",
    "   x = int(input(f\"introduza o numero {i} de {n}\"))\n",
    "   soma = soma + x\n",
    "   i = i + 1 \n",
    "print(soma/n)"
   ]
  },
  {
   "cell_type": "markdown",
   "id": "46a52784",
   "metadata": {},
   "source": [
    "### Exercício 6: Potência\n",
    "- Defina uma função **pot** que recebe dois parâmetros, **a** e **b**, e retorna o resultado de **a elevado à potência de b**.\n",
    "- Use esta função para escrever no monitor as potências de 2 com expoentes de 1 a 20."
   ]
  },
  {
   "cell_type": "code",
   "execution_count": 11,
   "id": "73ebf338",
   "metadata": {},
   "outputs": [
    {
     "name": "stdout",
     "output_type": "stream",
     "text": [
      "2^1 - 2\n",
      "2^2 - 4\n",
      "2^3 - 8\n",
      "2^4 - 16\n",
      "2^5 - 32\n",
      "2^6 - 64\n",
      "2^7 - 128\n",
      "2^8 - 256\n",
      "2^9 - 512\n",
      "2^10 - 1024\n",
      "2^11 - 2048\n",
      "2^12 - 4096\n",
      "2^13 - 8192\n",
      "2^14 - 16384\n",
      "2^15 - 32768\n",
      "2^16 - 65536\n",
      "2^17 - 131072\n",
      "2^18 - 262144\n",
      "2^19 - 524288\n",
      "2^20 - 1048576\n"
     ]
    }
   ],
   "source": [
    "# Solução do exercício 6\n",
    "def pot(a,b):\n",
    "    res = 1\n",
    "    while b > 0:\n",
    "        res = res * a\n",
    "        b = b - 1\n",
    "    return res\n",
    "\n",
    "i = 1\n",
    "while i <= 20:\n",
    "    print(f\"2^{i} - {pot(2,i)}\")\n",
    "    i = i + 1"
   ]
  },
  {
   "cell_type": "markdown",
   "id": "a09b4add",
   "metadata": {},
   "source": [
    "### Exercício 7: Divisão inteira\n",
    "- Defina uma função **divisao** que recebe dois parâmetros **a** e **b** e retorna o resultado da **divisão inteira de a por b** (neste exercício não poderá usar as operações de divisão '/' e do resto '%')."
   ]
  },
  {
   "cell_type": "code",
   "execution_count": 12,
   "id": "36dbd5aa",
   "metadata": {},
   "outputs": [
    {
     "name": "stdout",
     "output_type": "stream",
     "text": [
      "-2\n"
     ]
    }
   ],
   "source": [
    "# Solução do exercício 7\n",
    "\n",
    "def divisao(a,b):\n",
    "    if b == 0:\n",
    "        print(\"ERRO\")\n",
    "    \n",
    "    i = 0\n",
    "    negativo = False\n",
    "    \n",
    "    if a < 0:\n",
    "        a = -a\n",
    "        negativo = not negativo\n",
    "    \n",
    "    if b < 0:\n",
    "        b = -b\n",
    "        negativo = not negativo\n",
    "    \n",
    "    while a >= b:\n",
    "        a = a - b \n",
    "        i = i + 1\n",
    "    return -i if negativo else i\n",
    "\n",
    "print(divisao(-4,2))\n",
    "\n",
    "\n",
    "\n",
    "\n"
   ]
  },
  {
   "cell_type": "markdown",
   "id": "0490effe",
   "metadata": {},
   "source": [
    "### Exercício 8: Resto\n",
    "- Defina uma função **resto** que recebe dois parâmetros **a** e **b** e retorna o **resto da divisão inteira de a por b** (neste exercício não poderá usar as operações de divisão '/' e do resto '%')."
   ]
  },
  {
   "cell_type": "code",
   "execution_count": 14,
   "id": "3fea0e05",
   "metadata": {},
   "outputs": [
    {
     "name": "stdout",
     "output_type": "stream",
     "text": [
      "4\n"
     ]
    }
   ],
   "source": [
    "# Solução do exercício 8\n",
    "\n",
    "def resto(a,b):\n",
    "    if b == 0:\n",
    "        return (\"ERRO\")\n",
    "    \n",
    "    i = 0\n",
    "    negativo = False \n",
    "\n",
    "    if a < 0:\n",
    "        a = -a\n",
    "        negativo = not negativo\n",
    "    \n",
    "    if b < 0:\n",
    "        b = -b \n",
    "        negativo = not negativo\n",
    "    \n",
    "    while a >= b:\n",
    "        a = a - b\n",
    "        i = i + 1\n",
    "    return -a if negativo else a\n",
    "\n",
    "print(resto(-9,-5))\n",
    "\n"
   ]
  },
  {
   "cell_type": "markdown",
   "id": "d11cdd11",
   "metadata": {},
   "source": [
    "### Exercício 9: Série numérica\n",
    "- Defina uma função **serie** que recebe três parâmetros, **base**, **salto** e **nelems**, e escreve no monitor a série;\n",
    "- Invocada com: **serie(7, 4, 5)** escreveria: 7, 11, 15, 19, 23"
   ]
  },
  {
   "cell_type": "code",
   "execution_count": 6,
   "id": "7549c7d7",
   "metadata": {},
   "outputs": [],
   "source": [
    "# Solução do exercício 9\n",
    "def serie(base,salto,nelems):\n",
    "    atual = base\n",
    "\n",
    "????\n"
   ]
  },
  {
   "cell_type": "markdown",
   "id": "73187e87",
   "metadata": {},
   "source": [
    "### Exercício 10: Desenhar um quadrado\n",
    "- Defina uma função **quad** que recebe um parâmetro, **n**, e desenha no monitor um quadrado usando o caráter '#'."
   ]
  },
  {
   "cell_type": "code",
   "execution_count": 7,
   "id": "a31f8eaf",
   "metadata": {},
   "outputs": [],
   "source": [
    "# Solução do exercício 10\n",
    "\n",
    "???"
   ]
  },
  {
   "cell_type": "markdown",
   "id": "f4e2bc84",
   "metadata": {},
   "source": [
    "### Exercício 11: Índice de Massa Corporal\n",
    "- Defina uma função **imc** que recebe dois parâmetros, **peso**,**altura**, calcula o IMC corresponente e interpreta esse resultado.\n",
    "- imc(53,1.56) - Output: \"O seu índice de massa corporal é **21.78** e encontra-se na categoria **Normal**\"\n",
    "- imc(83,1.56) - Output: \"O seu índice de massa corporal é **34.11** e encontra-se na categoria **Obesidade grau I**\"\n",
    "\n",
    "Valores:\n",
    "- Menor que 18,5 - Baixo peso\n",
    "- 18,5 a 24,9 - Normal\n",
    "- 25 a 29,9\t- Excesso de peso\n",
    "- 30 a 34,9\t- Obesidade grau I\n",
    "- 35 a 39,9\t- Obesidade grau II\n",
    "- Maior que 40\t- Obesidade grau III"
   ]
  },
  {
   "cell_type": "code",
   "execution_count": 21,
   "id": "2a62004a",
   "metadata": {},
   "outputs": [
    {
     "ename": "SyntaxError",
     "evalue": "expected ':' (2595217273.py, line 21)",
     "output_type": "error",
     "traceback": [
      "\u001b[1;36m  Cell \u001b[1;32mIn[21], line 21\u001b[1;36m\u001b[0m\n\u001b[1;33m    else \"categoria\" == \"obesidade grau III\"\u001b[0m\n\u001b[1;37m         ^\u001b[0m\n\u001b[1;31mSyntaxError\u001b[0m\u001b[1;31m:\u001b[0m expected ':'\n"
     ]
    }
   ],
   "source": [
    "# Solução do exercício 11\n",
    "\n",
    "def imc(p,a):\n",
    "    imc == p / (a*a)\n",
    "\n",
    "    if imc < 18.5:\n",
    "        \"categoria\" == \"baixo peso\"\n",
    "    \n",
    "    elif 18.5 <= imc <= 24.9:\n",
    "        \"categoria\" == \"normal\"\n",
    "    \n",
    "    elif 25 <= imc <= 29.9:\n",
    "        \"categoria\" == \"Excesso de peso\"\n",
    "    \n",
    "    elif 30 <= imc <= 34.9:\n",
    "        \"categoria\" == \"obesidade grau I\"\n",
    "    \n",
    "    elif 35 <= imc <= 39.9:\n",
    "        \"categoria\" == \"obesidade grau II\"\n",
    "    \n",
    "    else \"categoria\" == \"obesidade grau III\"\n",
    "    \n",
    "    return f\"O seu índice de massa corporal é {imc} e encontra-se na categoria {\"categoria\"}.\"\n",
    "\n",
    "print(imc(50,1.60))\n",
    "\n",
    "    \n",
    "\n",
    "    \n",
    "\n"
   ]
  },
  {
   "cell_type": "markdown",
   "id": "cb1f80eb",
   "metadata": {},
   "source": [
    "### Exercício 12: Mínimo múltiplo comum \n",
    "\n",
    "- Defina uma função **mmc** que recebe dois parâmetros **a** e **b** e retorna como resultado o **mínimo múltiplo comum de a e b**."
   ]
  },
  {
   "cell_type": "code",
   "execution_count": null,
   "id": "739d6b09",
   "metadata": {},
   "outputs": [],
   "source": [
    "# Solução do exercício 12: mmc\n",
    "\n",
    "def mmc(a,b):\n",
    "    "
   ]
  },
  {
   "cell_type": "markdown",
   "id": "cb5c930a",
   "metadata": {},
   "source": [
    "### Exercício 13: Aplicação final \n",
    "\n",
    "Junta todos os exercícios que realizaste nesta ficha numa aplicação em Python:\n",
    "* Cria um menu com as funcionalidades desenvolvidas (faz uma função para escrever o menu);\n",
    "* Lê qual a opção do utilizador;\n",
    "* Executa a respetiva função, apresenta o resultado, e volta a colocar o menu e a questionar o utilizador;\n",
    "* Repete até o utilizador ter escolhido a opção de (S)air da aplicação.\n"
   ]
  },
  {
   "cell_type": "markdown",
   "id": "1cf1b437",
   "metadata": {},
   "source": [
    "## TPC3: Jogo dos 21 fósforos\n",
    "\n",
    "Desenvolve em Python o código necessário para o jogo dos 21 fósforos: \n",
    "\n",
    "### O jogo\n",
    "\n",
    "* No início do jogo, há 21 fósforos;\n",
    "* Cada jogador (computador ou utilizador), pode tirar 1, 2, 3 ou 4 fósforos quando for a sua vez de jogar;\n",
    "* Os jogadores jogam alternadamente;\n",
    "* **Quem tirar o último fósforo perde!**\n",
    "\n",
    "### O programa \n",
    "\n",
    "* O jogo deverá ter dois modos: o jogador joga em primeiro lugar e o computador começa a jogar em segundo lugar e, no segundo modo, o computador começa em primeiro; \n",
    "* Quando o computador começa a jogar em segundo lugar, deve ganhar sempre o jogo;\n",
    "* Quando o computador começa a jogar em primeiro lugar, se o utilizador cometer um erro de cálculo, o computador deverá passar para a posição de vencedor e ganhar o jogo."
   ]
  },
  {
   "cell_type": "code",
   "execution_count": 15,
   "id": "afdf190e",
   "metadata": {},
   "outputs": [
    {
     "name": "stdout",
     "output_type": "stream",
     "text": [
      "Bem-vindo ao Jogo dos Fósforos!\n",
      "Fósforos restantes: 21\n",
      "O computador retirou 2 fósforos.\n",
      "Fósforos restantes: 16\n",
      "O computador retirou 3 fósforos.\n",
      "Fósforos restantes: 11\n",
      "O computador retirou 2 fósforos.\n",
      "Fósforos restantes: 6\n",
      "O computador retirou 4 fósforos.\n",
      "Fósforos restantes: 1\n",
      "Você tirou o último fósforo! Você perdeu!\n"
     ]
    }
   ],
   "source": [
    "import random\n",
    "\n",
    "def jogador_joga(fosforos):\n",
    "    while True:\n",
    "        tentativa = input(f\"Você pode tirar 1, 2, 3 ou 4 fósforos. Quantos você deseja tirar? (Fósforos restantes: {fosforos}): \")\n",
    "        \n",
    "        # Verifica se a entrada é um número e se está dentro do limite permitido.\n",
    "        if tentativa.isdigit():\n",
    "            tentativa = int(tentativa)\n",
    "            if 1 <= tentativa <= 4 and tentativa <= fosforos:\n",
    "                return tentativa\n",
    "        \n",
    "        print(\"Entrada inválida. Tente novamente.\")\n",
    "\n",
    "\n",
    "def computador_joga(fosforos):\n",
    "    if fosforos <= 4:\n",
    "        return fosforos  # Tira todos se o computador estiver prestes a perder.\n",
    "    else:\n",
    "        return (fosforos - 1) % 5 or 1  # Lógica para forçar a vitória.\n",
    "\n",
    "def jogo_com_jogador_primeiro():\n",
    "    fosforos = 21\n",
    "    while fosforos > 0:\n",
    "        print(f\"Fósforos restantes: {fosforos}\")\n",
    "        \n",
    "        # Jogador\n",
    "        fosforos -= jogador_joga(fosforos)\n",
    "        if fosforos == 0:\n",
    "            print(\"Você tirou o último fósforo! Você perdeu!\")\n",
    "            return\n",
    "\n",
    "        # Computador\n",
    "        retirada_computador = computador_joga(fosforos)\n",
    "        fosforos -= retirada_computador\n",
    "        print(f\"O computador retirou {retirada_computador} fósforos.\")\n",
    "        if fosforos == 0:\n",
    "            print(\"O computador tirou o último fósforo! O computador perdeu!\")\n",
    "            return\n",
    "\n",
    "def jogo_com_computador_primeiro():\n",
    "    fosforos = 21\n",
    "    while fosforos > 0:\n",
    "        print(f\"Fósforos restantes: {fosforos}\")\n",
    "\n",
    "        # Computador\n",
    "        retirada_computador = computador_joga(fosforos)\n",
    "        fosforos -= retirada_computador\n",
    "        print(f\"O computador retirou {retirada_computador} fósforos.\")\n",
    "        if fosforos == 0:\n",
    "            print(\"O computador tirou o último fósforo! O computador perdeu!\")\n",
    "            return\n",
    "\n",
    "        # Jogador\n",
    "        fosforos -= jogador_joga(fosforos)\n",
    "        if fosforos == 0:\n",
    "            print(\"Você tirou o último fósforo! Você perdeu!\")\n",
    "            return\n",
    "\n",
    "print(\"Bem-vindo ao Jogo dos Fósforos!\")\n",
    "modo = input(\"Escolha o modo de jogo (1 - Você começa, 2 - Computador começa): \")\n",
    "\n",
    "if modo == '1':\n",
    "    jogo_com_jogador_primeiro()\n",
    "elif modo == '2':\n",
    "    jogo_com_computador_primeiro()\n",
    "else:\n",
    "    print(\"Modo inválido. O jogo será encerrado.\")\n",
    "\n"
   ]
  }
 ],
 "metadata": {
  "kernelspec": {
   "display_name": "Python 3",
   "language": "python",
   "name": "python3"
  },
  "language_info": {
   "codemirror_mode": {
    "name": "ipython",
    "version": 3
   },
   "file_extension": ".py",
   "mimetype": "text/x-python",
   "name": "python",
   "nbconvert_exporter": "python",
   "pygments_lexer": "ipython3",
   "version": "3.12.6"
  }
 },
 "nbformat": 4,
 "nbformat_minor": 5
}
