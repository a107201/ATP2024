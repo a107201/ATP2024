{
 "cells": [
  {
   "cell_type": "code",
   "execution_count": 2,
   "metadata": {},
   "outputs": [
    {
     "name": "stdout",
     "output_type": "stream",
     "text": [
      "Bem-vindo ao Jogo dos Fósforos!\n",
      "Fósforos restantes: 21\n",
      "O computador retirou 4 fósforos.\n",
      "Fósforos restantes: 16\n",
      "O computador retirou 3 fósforos.\n",
      "Fósforos restantes: 11\n",
      "O computador retirou 3 fósforos.\n",
      "Fósforos restantes: 6\n",
      "O computador retirou 4 fósforos.\n",
      "Fósforos restantes: 1\n",
      "Você tirou o último fósforo! Você perdeu!\n"
     ]
    }
   ],
   "source": [
    "import random\n",
    "\n",
    "def jogador_joga(fosforos):\n",
    "    while True:\n",
    "        tentativa = input(f\"Você pode tirar 1, 2, 3 ou 4 fósforos. Quantos você deseja tirar? (Fósforos restantes: {fosforos}): \")\n",
    "        \n",
    "        # Verifica se a entrada é um número e se está dentro do limite permitido.\n",
    "        if tentativa.isdigit():\n",
    "            tentativa = int(tentativa)\n",
    "            if 1 <= tentativa <= 4 and tentativa <= fosforos:\n",
    "                return tentativa\n",
    "        \n",
    "        print(\"Entrada inválida. Tente novamente.\")\n",
    "\n",
    "\n",
    "def computador_joga(fosforos):\n",
    "    if fosforos <= 4:\n",
    "        return fosforos  \n",
    "    else:\n",
    "        return (fosforos - 1) % 5 or 1  \n",
    "\n",
    "def jogo_com_jogador_primeiro():\n",
    "    fosforos = 21\n",
    "    while fosforos > 0:\n",
    "        print(f\"Fósforos restantes: {fosforos}\")\n",
    "        \n",
    "        # Jogador\n",
    "        fosforos -= jogador_joga(fosforos)\n",
    "        if fosforos == 0:\n",
    "            print(\"Você tirou o último fósforo! Você perdeu!\")\n",
    "            return\n",
    "\n",
    "        #computador\n",
    "        retirada_computador = computador_joga(fosforos)\n",
    "        fosforos -= retirada_computador\n",
    "        print(f\"O computador retirou {retirada_computador} fósforos.\")\n",
    "        if fosforos == 0:\n",
    "            print(\"O computador tirou o último fósforo! O computador perdeu!\")\n",
    "            return\n",
    "\n",
    "def jogo_com_computador_primeiro():\n",
    "    fosforos = 21\n",
    "    while fosforos > 0:\n",
    "        print(f\"Fósforos restantes: {fosforos}\")\n",
    "\n",
    "        # Computador\n",
    "        retirada_computador = computador_joga(fosforos)\n",
    "        fosforos -= retirada_computador\n",
    "        print(f\"O computador retirou {retirada_computador} fósforos.\")\n",
    "        if fosforos == 0:\n",
    "            print(\"O computador tirou o último fósforo! O computador perdeu!\")\n",
    "            return\n",
    "\n",
    "        # Jogador\n",
    "        fosforos -= jogador_joga(fosforos)\n",
    "        if fosforos == 0:\n",
    "            print(\"Você tirou o último fósforo! Você perdeu!\")\n",
    "            return\n",
    "\n",
    "print(\"Bem-vindo ao Jogo dos Fósforos!\")\n",
    "modo = input(\"Escolha o modo de jogo (1 - Você começa, 2 - Computador começa): \")\n",
    "\n",
    "if modo == '1':\n",
    "    jogo_com_jogador_primeiro()\n",
    "elif modo == '2':\n",
    "    jogo_com_computador_primeiro()\n",
    "else:\n",
    "    print(\"Modo inválido. O jogo será encerrado.\")"
   ]
  }
 ],
 "metadata": {
  "kernelspec": {
   "display_name": "Python 3",
   "language": "python",
   "name": "python3"
  },
  "language_info": {
   "codemirror_mode": {
    "name": "ipython",
    "version": 3
   },
   "file_extension": ".py",
   "mimetype": "text/x-python",
   "name": "python",
   "nbconvert_exporter": "python",
   "pygments_lexer": "ipython3",
   "version": "3.12.6"
  }
 },
 "nbformat": 4,
 "nbformat_minor": 2
}
